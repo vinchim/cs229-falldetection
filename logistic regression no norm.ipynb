{
 "cells": [
  {
   "cell_type": "code",
   "execution_count": 48,
   "id": "211335ca",
   "metadata": {},
   "outputs": [],
   "source": [
    "import pandas as pd\n",
    "import numpy as np\n",
    "import matplotlib.pyplot as plt\n",
    "import seaborn as sns\n",
    "from sklearn.model_selection import train_test_split\n",
    "from sklearn.linear_model import LogisticRegression\n",
    "\n",
    "from sklearn.utils import shuffle\n",
    "import csv\n",
    "import cv2\n",
    "import itertools\n",
    "import numpy as np\n",
    "import pandas as pd\n",
    "import os\n",
    "import sys\n",
    "import tempfile\n",
    "import tqdm\n",
    "\n",
    "from matplotlib import pyplot as plt\n",
    "from matplotlib.collections import LineCollection\n",
    "\n",
    "import tensorflow as tf\n",
    "import tensorflow_hub as hub\n",
    "from tensorflow import keras\n",
    "\n",
    "from sklearn.model_selection import train_test_split\n",
    "from sklearn.metrics import accuracy_score, classification_report, confusion_matrix\n",
    "\n",
    "\n",
    "import tensorflow_addons as tfa\n",
    "%matplotlib inline"
   ]
  },
  {
   "cell_type": "code",
   "execution_count": 49,
   "id": "a504726e",
   "metadata": {},
   "outputs": [],
   "source": [
    "def load_pose_landmarks(csv_path):\n",
    "    \"\"\"Loads a CSV created by MoveNetPreprocessor.\n",
    "    Returns:\n",
    "        X: Detected landmark coordinates and scores of shape (N, 17 * 3)\n",
    "        y: Ground truth labels of shape (N, label_count)\n",
    "        classes: The list of all class names found in the dataset\n",
    "        dataframe: The CSV loaded as a Pandas dataframe features (X) and ground\n",
    "        truth labels (y) to use later to train a pose classification model.\n",
    "    \"\"\"\n",
    "\n",
    "    # Load the CSV file\n",
    "    dataframe = pd.read_csv(csv_path)\n",
    "    \n",
    "    labels = dataframe[\"label\"] - 1#pd.read_csv(labels_path, header=None)\n",
    "    \n",
    "    print(labels.unique())\n",
    "    df_to_process = dataframe.copy()\n",
    "\n",
    "    # Drop the file_name columns as you don't need it during training.\n",
    "    df_to_process.drop(columns=['file_name'], inplace=True)\n",
    "\n",
    "    # Extract the list of class names\n",
    "    df_to_process.pop('class_name')\n",
    "    df_to_process.pop('class_no')\n",
    "    df_to_process.pop('label')\n",
    "\n",
    "    # Extract the labels\n",
    "    y = labels\n",
    "    classes = range(6)\n",
    "\n",
    "    # Convert the input features and labels into the correct format for training.\n",
    "    X = df_to_process.astype('float64')\n",
    "    y = keras.utils.to_categorical(y)\n",
    "\n",
    "    return X, y, classes, dataframe"
   ]
  },
  {
   "cell_type": "code",
   "execution_count": 50,
   "id": "a1f6d47d",
   "metadata": {},
   "outputs": [
    {
     "name": "stdout",
     "output_type": "stream",
     "text": [
      "[0. 3. 1. 2. 4. 5.]\n",
      "(12056, 51) (12056, 6)\n",
      "(9644, 51) (1206, 51) (1206, 51)\n",
      "(9644,) (1206,) (1206,)\n"
     ]
    }
   ],
   "source": [
    "# Read labels file\n",
    "\n",
    "data_path = '/home/shellygoel2324/data_merged.csv'\n",
    "\n",
    "# Load the train data\n",
    "X, y, class_names, _ = load_pose_landmarks(data_path)\n",
    "\n",
    "print(X.shape, y.shape)\n",
    "\n",
    "y = np.argmax(y, 1)\n",
    "\n",
    "# Split training data (X, y) into (X_train, y_train) and (X_val, y_val)\n",
    "\n",
    "# 80/10/10\n",
    "X_train, X_test, y_train, y_test = train_test_split(X, y, test_size=0.2, random_state=1)\n",
    "X_val, X_test, y_val, y_test = train_test_split(X_test, y_test, test_size=0.5, random_state=1) # 0.25 x 0.8 = 0.2\n",
    "\n",
    "print(X_train.shape, X_val.shape, X_test.shape)\n",
    "print(y_train.shape, y_val.shape, y_test.shape)\n",
    "\n",
    "#60/20/20\n",
    "#X_train, X_test, y_train, y_test = train_test_split(X, y, test_size=0.2, random_state=1)\n",
    "#X_train, X_val, y_train, y_val = train_test_split(X_train, y_train, test_size=0.25, random_state=1) # 0.25 x 0.8 = 0.2"
   ]
  },
  {
   "cell_type": "code",
   "execution_count": 51,
   "id": "906c1fa2",
   "metadata": {
    "scrolled": false
   },
   "outputs": [
    {
     "name": "stdout",
     "output_type": "stream",
     "text": [
      "TRAIN DISTRIBUTION\n",
      "0: 0.5412691829116549\n",
      "1: 0.25964330153463294\n",
      "2: 0.11406055578598093\n",
      "3: 0.047698050601410205\n",
      "4: 0.02789299046038988\n",
      "5: 0.009435918705931148\n",
      "\n",
      "TEST DISTRIBUTION\n",
      "0: 0.5655058043117744\n",
      "1: 0.2462686567164179\n",
      "2: 0.11525704809286899\n",
      "3: 0.0472636815920398\n",
      "4: 0.02155887230514096\n",
      "5: 0.0041459369817578775\n"
     ]
    }
   ],
   "source": [
    "print(\"TRAIN DISTRIBUTION\")\n",
    "\n",
    "sample_dist = []\n",
    "for i in range(0,6):\n",
    "    \n",
    "    num_i = 0\n",
    "    for sample in y_train:\n",
    "            if sample == i:\n",
    "                num_i+=1\n",
    "    dist = num_i/len(y_train)\n",
    "    print(f\"{i}: {dist}\")\n",
    "    sample_dist.append(dist)\n",
    "\n",
    "\n",
    "print(\"\\nTEST DISTRIBUTION\")\n",
    "for i in range(0,6):\n",
    "    \n",
    "    num_i = 0\n",
    "    for sample in y_test:\n",
    "            if sample == i:\n",
    "                num_i+=1\n",
    "\n",
    "    dist = num_i/len(y_test)\n",
    "    print(f\"{i}: {dist}\")\n",
    "    #sample_dist.append(dist)"
   ]
  },
  {
   "cell_type": "code",
   "execution_count": 52,
   "id": "58d95ed0",
   "metadata": {},
   "outputs": [
    {
     "name": "stderr",
     "output_type": "stream",
     "text": [
      "[Parallel(n_jobs=1)]: Using backend SequentialBackend with 1 concurrent workers.\n"
     ]
    },
    {
     "name": "stdout",
     "output_type": "stream",
     "text": [
      "e: 0.00199877\n",
      "Epoch 177, change: 0.00198791\n",
      "Epoch 178, change: 0.00197940\n",
      "Epoch 179, change: 0.00197817\n",
      "Epoch 180, change: 0.00196501\n",
      "Epoch 181, change: 0.00195848\n",
      "Epoch 182, change: 0.00195523\n",
      "Epoch 183, change: 0.00194118\n",
      "Epoch 184, change: 0.00193573\n",
      "Epoch 185, change: 0.00193190\n",
      "Epoch 186, change: 0.00192270\n",
      "Epoch 187, change: 0.00191576\n",
      "Epoch 188, change: 0.00191368\n",
      "Epoch 189, change: 0.00189891\n",
      "Epoch 190, change: 0.00189491\n",
      "Epoch 191, change: 0.00188893\n",
      "Epoch 192, change: 0.00187894\n",
      "Epoch 193, change: 0.00187669\n",
      "Epoch 194, change: 0.00186495\n",
      "Epoch 195, change: 0.00185882\n",
      "Epoch 196, change: 0.00185494\n",
      "Epoch 197, change: 0.00184563\n",
      "Epoch 198, change: 0.00184126\n",
      "Epoch 199, change: 0.00183474\n",
      "Epoch 200, change: 0.00182583\n",
      "Epoch 1, change: 1.00000000\n",
      "Epoch 2, change: 0.22324108\n",
      "Epoch 3, change: 0.20942438\n",
      "Epoch 4, change: 0.12261100\n",
      "Epoch 5, change: 0.10182234\n",
      "Epoch 6, change: 0.09484249\n",
      "Epoch 7, change: 0.07119714\n",
      "Epoch 8, change: 0.05777404\n",
      "Epoch 9, change: 0.04450525\n",
      "Epoch 10, change: 0.03911831\n",
      "Epoch 11, change: 0.03481653\n",
      "Epoch 12, change: 0.03043299\n",
      "Epoch 13, change: 0.02736890\n",
      "Epoch 14, change: 0.02452627\n",
      "Epoch 15, change: 0.02195132\n",
      "Epoch 16, change: 0.02039355\n",
      "Epoch 17, change: 0.01884084\n",
      "Epoch 18, change: 0.01764390\n",
      "Epoch 19, change: 0.01654322\n",
      "Epoch 20, change: 0.01522227\n",
      "Epoch 21, change: 0.01443195\n",
      "Epoch 22, change: 0.01382246\n",
      "Epoch 23, change: 0.01346183\n",
      "Epoch 24, change: 0.01275411\n",
      "Epoch 25, change: 0.01239912\n",
      "Epoch 26, change: 0.01196598\n",
      "Epoch 27, change: 0.01162380\n",
      "Epoch 28, change: 0.01125718\n",
      "Epoch 29, change: 0.01088449\n",
      "Epoch 30, change: 0.01045252\n",
      "Epoch 31, change: 0.01012328\n",
      "Epoch 32, change: 0.00985519\n",
      "Epoch 33, change: 0.00955879\n",
      "Epoch 34, change: 0.00926952\n",
      "Epoch 35, change: 0.00901189\n",
      "Epoch 36, change: 0.00872006\n",
      "Epoch 37, change: 0.00842507\n",
      "Epoch 38, change: 0.00827641\n",
      "Epoch 39, change: 0.00808796\n",
      "Epoch 40, change: 0.00792271\n",
      "Epoch 41, change: 0.00779526\n",
      "Epoch 42, change: 0.00764572\n",
      "Epoch 43, change: 0.00749576\n",
      "Epoch 44, change: 0.00736425\n",
      "Epoch 45, change: 0.00724441\n",
      "Epoch 46, change: 0.00709958\n",
      "Epoch 47, change: 0.00698977\n",
      "Epoch 48, change: 0.00687406\n",
      "Epoch 49, change: 0.00681244\n",
      "Epoch 50, change: 0.00664170\n",
      "Epoch 51, change: 0.00656617\n",
      "Epoch 52, change: 0.00645251\n",
      "Epoch 53, change: 0.00635622\n",
      "Epoch 54, change: 0.00627555\n",
      "Epoch 55, change: 0.00616894\n",
      "Epoch 56, change: 0.00611238\n",
      "Epoch 57, change: 0.00601509\n",
      "Epoch 58, change: 0.00591106\n",
      "Epoch 59, change: 0.00582261\n",
      "Epoch 60, change: 0.00575127\n",
      "Epoch 61, change: 0.00567529\n",
      "Epoch 62, change: 0.00558728\n",
      "Epoch 63, change: 0.00550522\n",
      "Epoch 64, change: 0.00545700\n",
      "Epoch 65, change: 0.00536309\n",
      "Epoch 66, change: 0.00529667\n",
      "Epoch 67, change: 0.00524419\n",
      "Epoch 68, change: 0.00515335\n",
      "Epoch 69, change: 0.00511327\n",
      "Epoch 70, change: 0.00504767\n",
      "Epoch 71, change: 0.00498213\n",
      "Epoch 72, change: 0.00490618\n",
      "Epoch 73, change: 0.00485043\n",
      "Epoch 74, change: 0.00480537\n",
      "Epoch 75, change: 0.00473717\n",
      "Epoch 76, change: 0.00468164\n",
      "Epoch 77, change: 0.00461878\n",
      "Epoch 78, change: 0.00456300\n",
      "Epoch 79, change: 0.00451246\n",
      "Epoch 80, change: 0.00446902\n",
      "Epoch 81, change: 0.00440165\n",
      "Epoch 82, change: 0.00435874\n",
      "Epoch 83, change: 0.00430699\n",
      "Epoch 84, change: 0.00425798\n",
      "Epoch 85, change: 0.00420755\n",
      "Epoch 86, change: 0.00416619\n",
      "Epoch 87, change: 0.00412156\n",
      "Epoch 88, change: 0.00409474\n",
      "Epoch 89, change: 0.00401456\n",
      "Epoch 90, change: 0.00398786\n",
      "Epoch 91, change: 0.00395183\n",
      "Epoch 92, change: 0.00390342\n",
      "Epoch 93, change: 0.00385778\n",
      "Epoch 94, change: 0.00382686\n",
      "Epoch 95, change: 0.00377091\n",
      "Epoch 96, change: 0.00374046\n",
      "Epoch 97, change: 0.00369284\n",
      "Epoch 98, change: 0.00366016\n",
      "Epoch 99, change: 0.00361586\n",
      "Epoch 100, change: 0.00358290\n",
      "Epoch 101, change: 0.00353457\n",
      "Epoch 102, change: 0.00352089\n",
      "Epoch 103, change: 0.00346982\n",
      "Epoch 104, change: 0.00341022\n",
      "Epoch 105, change: 0.00341160\n",
      "Epoch 106, change: 0.00334920\n",
      "Epoch 107, change: 0.00333442\n",
      "Epoch 108, change: 0.00329392\n",
      "Epoch 109, change: 0.00326695\n",
      "Epoch 110, change: 0.00321787\n",
      "Epoch 111, change: 0.00317943\n",
      "Epoch 112, change: 0.00315968\n",
      "Epoch 113, change: 0.00311448\n",
      "Epoch 114, change: 0.00309292\n",
      "Epoch 115, change: 0.00306236\n",
      "Epoch 116, change: 0max_iter reached after 4 seconds\n"
     ]
    },
    {
     "name": "stderr",
     "output_type": "stream",
     "text": [
      "/opt/conda/lib/python3.7/site-packages/sklearn/linear_model/_sag.py:354: ConvergenceWarning: The max_iter was reached which means the coef_ did not converge\n",
      "  ConvergenceWarning,\n",
      "[Parallel(n_jobs=1)]: Done   1 out of   1 | elapsed:    3.8s finished\n"
     ]
    },
    {
     "data": {
      "text/plain": [
       "LogisticRegression(max_iter=200, solver='sag', verbose=1)"
      ]
     },
     "execution_count": 52,
     "metadata": {},
     "output_type": "execute_result"
    }
   ],
   "source": [
    "\n",
    "logreg = LogisticRegression(max_iter = 200,solver = 'sag', verbose = 1)\n",
    "logreg.fit(X_train,y_train)\n"
   ]
  },
  {
   "cell_type": "code",
   "execution_count": 53,
   "id": "0b049ba2",
   "metadata": {},
   "outputs": [],
   "source": [
    "prediction = logreg.predict(X_test)"
   ]
  },
  {
   "cell_type": "code",
   "execution_count": 54,
   "id": "a76befe7",
   "metadata": {
    "scrolled": true
   },
   "outputs": [
    {
     "name": "stdout",
     "output_type": "stream",
     "text": [
      "              precision    recall  f1-score   support\n",
      "\n",
      "           0       0.93      0.98      0.95       682\n",
      "           1       0.80      0.90      0.84       297\n",
      "           2       0.81      0.62      0.70       139\n",
      "           3       0.55      0.21      0.30        57\n",
      "           4       0.79      0.73      0.76        26\n",
      "           5       0.00      0.00      0.00         5\n",
      "\n",
      "    accuracy                           0.87      1206\n",
      "   macro avg       0.65      0.57      0.59      1206\n",
      "weighted avg       0.86      0.87      0.86      1206\n",
      "\n"
     ]
    },
    {
     "name": "stderr",
     "output_type": "stream",
     "text": [
      "/opt/conda/lib/python3.7/site-packages/sklearn/metrics/_classification.py:1318: UndefinedMetricWarning: Precision and F-score are ill-defined and being set to 0.0 in labels with no predicted samples. Use `zero_division` parameter to control this behavior.\n",
      "  _warn_prf(average, modifier, msg_start, len(result))\n",
      "/opt/conda/lib/python3.7/site-packages/sklearn/metrics/_classification.py:1318: UndefinedMetricWarning: Precision and F-score are ill-defined and being set to 0.0 in labels with no predicted samples. Use `zero_division` parameter to control this behavior.\n",
      "  _warn_prf(average, modifier, msg_start, len(result))\n",
      "/opt/conda/lib/python3.7/site-packages/sklearn/metrics/_classification.py:1318: UndefinedMetricWarning: Precision and F-score are ill-defined and being set to 0.0 in labels with no predicted samples. Use `zero_division` parameter to control this behavior.\n",
      "  _warn_prf(average, modifier, msg_start, len(result))\n"
     ]
    }
   ],
   "source": [
    "from sklearn.metrics import classification_report\n",
    "\n",
    "print(classification_report(y_test,prediction))"
   ]
  },
  {
   "cell_type": "code",
   "execution_count": 55,
   "id": "d60afedf",
   "metadata": {},
   "outputs": [
    {
     "name": "stdout",
     "output_type": "stream",
     "text": [
      "0.8714759535655058\n"
     ]
    }
   ],
   "source": [
    "score = logreg.score(X_test, y_test)\n",
    "print(score)"
   ]
  },
  {
   "cell_type": "code",
   "execution_count": 56,
   "id": "cfcfc04a",
   "metadata": {},
   "outputs": [
    {
     "name": "stdout",
     "output_type": "stream",
     "text": [
      "Feature: 0, Score: 0.01481\n",
      "Feature: 1, Score: -0.01884\n",
      "Feature: 2, Score: -0.00976\n",
      "Feature: 3, Score: 0.00403\n",
      "Feature: 4, Score: 0.02242\n",
      "Feature: 5, Score: -0.01261\n",
      "Feature: 6, Score: 0.01446\n",
      "Feature: 7, Score: -0.00175\n",
      "Feature: 8, Score: -0.01338\n",
      "Feature: 9, Score: 0.00596\n",
      "Feature: 10, Score: -0.02831\n",
      "Feature: 11, Score: -0.01556\n",
      "Feature: 12, Score: 0.00110\n",
      "Feature: 13, Score: -0.08525\n",
      "Feature: 14, Score: -0.01630\n",
      "Feature: 15, Score: -0.00900\n",
      "Feature: 16, Score: -0.02572\n",
      "Feature: 17, Score: -0.01175\n",
      "Feature: 18, Score: -0.03106\n",
      "Feature: 19, Score: -0.06608\n",
      "Feature: 20, Score: -0.01212\n",
      "Feature: 21, Score: -0.04702\n",
      "Feature: 22, Score: -0.05660\n",
      "Feature: 23, Score: -0.00735\n",
      "Feature: 24, Score: 0.05845\n",
      "Feature: 25, Score: -0.06083\n",
      "Feature: 26, Score: -0.01259\n",
      "Feature: 27, Score: 0.04585\n",
      "Feature: 28, Score: 0.04793\n",
      "Feature: 29, Score: -0.00731\n",
      "Feature: 30, Score: -0.04075\n",
      "Feature: 31, Score: 0.04138\n",
      "Feature: 32, Score: -0.01339\n",
      "Feature: 33, Score: -0.04003\n",
      "Feature: 34, Score: 0.09272\n",
      "Feature: 35, Score: -0.00858\n",
      "Feature: 36, Score: 0.00349\n",
      "Feature: 37, Score: 0.03982\n",
      "Feature: 38, Score: -0.00694\n",
      "Feature: 39, Score: -0.04925\n",
      "Feature: 40, Score: 0.05835\n",
      "Feature: 41, Score: -0.00438\n",
      "Feature: 42, Score: 0.05320\n",
      "Feature: 43, Score: 0.03317\n",
      "Feature: 44, Score: -0.00549\n",
      "Feature: 45, Score: 0.02305\n",
      "Feature: 46, Score: -0.02341\n",
      "Feature: 47, Score: 0.00448\n",
      "Feature: 48, Score: -0.02037\n",
      "Feature: 49, Score: -0.00526\n",
      "Feature: 50, Score: 0.00322\n"
     ]
    },
    {
     "data": {
      "image/png": "[encoded data removed]",
      "text/plain": [
       "<Figure size 432x288 with 1 Axes>"
      ]
     },
     "metadata": {
      "needs_background": "light"
     },
     "output_type": "display_data"
    }
   ],
   "source": [
    "\n",
    "from sklearn.datasets import make_classification\n",
    "from sklearn.linear_model import LogisticRegression\n",
    "from matplotlib import pyplot\n",
    "importance = logreg.coef_[0]\n",
    "\n",
    "for i,j in enumerate(importance):\n",
    "\tprint('Feature: %0d, Score: %.5f' % (i,j))\n",
    "\n",
    "pyplot.bar([X for X in range(len(importance))], importance)\n",
    "pyplot.show()"
   ]
  },
  {
   "cell_type": "code",
   "execution_count": 57,
   "id": "835fa754",
   "metadata": {},
   "outputs": [
    {
     "name": "stdout",
     "output_type": "stream",
     "text": [
      "Normalized confusion matrix\n"
     ]
    },
    {
     "data": {
      "image/png": "[encoded data removed]",
      "text/plain": [
       "<Figure size 432x288 with 2 Axes>"
      ]
     },
     "metadata": {
      "needs_background": "light"
     },
     "output_type": "display_data"
    }
   ],
   "source": [
    "def plot_confusion_matrix(cm, classes,\n",
    "                          normalize=False,\n",
    "                          title='Confusion matrix',\n",
    "                          cmap=plt.cm.Blues):\n",
    "    \"\"\"Plots the confusion matrix.\"\"\"\n",
    "    if normalize:\n",
    "        cm = cm.astype('float') / cm.sum(axis=1)[:, np.newaxis]\n",
    "        print(\"Normalized confusion matrix\")\n",
    "    else:\n",
    "        print('Confusion matrix, without normalization')\n",
    "\n",
    "    plt.imshow(cm, interpolation='nearest', cmap=cmap)\n",
    "    plt.title(title)\n",
    "    plt.colorbar()\n",
    "    tick_marks = np.arange(len(classes))\n",
    "    plt.xticks(tick_marks, classes, rotation=55)\n",
    "    plt.yticks(tick_marks, classes)\n",
    "    fmt = '.2f' if normalize else 'd'\n",
    "    thresh = cm.max() / 2.\n",
    "    for i, j in itertools.product(range(cm.shape[0]), range(cm.shape[1])):\n",
    "        plt.text(j, i, format(cm[i, j], fmt),\n",
    "              horizontalalignment=\"center\",\n",
    "              color=\"white\" if cm[i, j] > thresh else \"black\")\n",
    "\n",
    "    plt.ylabel('True label')\n",
    "    plt.xlabel('Predicted label')\n",
    "    plt.tight_layout()\n",
    "\n",
    "# Plot the confusion matrix\n",
    "cm = confusion_matrix(y_test, prediction)\n",
    "plot_confusion_matrix(cm,\n",
    "                      class_names,normalize=True,\n",
    "                      title ='Confusion Matrix of Pose Classification Model')\n"
   ]
  },
  {
   "cell_type": "code",
   "execution_count": 58,
   "id": "9aece7bc",
   "metadata": {},
   "outputs": [
    {
     "name": "stderr",
     "output_type": "stream",
     "text": [
      "/opt/conda/lib/python3.7/site-packages/sklearn/linear_model/_sag.py:354: ConvergenceWarning: The max_iter was reached which means the coef_ did not converge\n",
      "  ConvergenceWarning,\n"
     ]
    }
   ],
   "source": [
    "from io import StringIO\n",
    "\n",
    "old_stdout = sys.stdout\n",
    "sys.stdout = mystdout = StringIO()\n",
    "clf = LogisticRegression(max_iter = 1000,solver = 'sag')\n",
    "clf.fit(X_train,y_train)\n",
    "sys.stdout = old_stdout\n",
    "loss_history = mystdout.getvalue()\n",
    "loss_list = []\n",
    "for line in loss_history.split('\\n'):\n",
    "    if(len(line.split(\"loss: \")) == 1):\n",
    "        continue\n",
    "    loss_list.append(float(line.split(\"loss: \")[-1]))\n",
    "plt.figure()\n",
    "plt.plot(np.arange(len(loss_list)), loss_list)\n",
    "plt.savefig(\"pure_LogRes.png\")\n",
    "plt.xlabel(\"Time in epochs\")\n",
    "plt.ylabel(\"Loss\")\n",
    "plt.close()"
   ]
  },
  {
   "cell_type": "code",
   "execution_count": null,
   "id": "8c175077",
   "metadata": {},
   "outputs": [],
   "source": []
  },
  {
   "cell_type": "code",
   "execution_count": null,
   "id": "dae78d88",
   "metadata": {},
   "outputs": [],
   "source": []
  }
 ],
 "metadata": {
  "kernelspec": {
   "display_name": "Python 3",
   "language": "python",
   "name": "python3"
  },
  "language_info": {
   "codemirror_mode": {
    "name": "ipython",
    "version": 3
   },
   "file_extension": ".py",
   "mimetype": "text/x-python",
   "name": "python",
   "nbconvert_exporter": "python",
   "pygments_lexer": "ipython3",
   "version": "3.7.12"
  }
 },
 "nbformat": 4,
 "nbformat_minor": 5
}
